{
 "cells": [
  {
   "cell_type": "markdown",
   "metadata": {},
   "source": [
    "# Model: Interests (Topic Modeling)\n",
    "\n",
    "* This model uses NLP to determine similar interests between users.\n",
    "\n",
    "**Methodology for finding similar interests (clustering / NLP):**\n",
    "* Join all reviews for each user as one document per user\n",
    "* Process and clean text\n",
    "* Do Bag-of-Words (bigram and trigram) for each document\n",
    "* Do LDA\n",
    "* K-means cluster training set according to their LDA per-document topic distribution\n",
    "* Assign test set to a cluster based on their LDA per-document topic distribution\n",
    "\n",
    "**Methodology for recommendation:**\n",
    "* For each K-means cluster of the training set, find the 10 most popular restaurants in SG according to number of people who have visited.\n",
    "* For each user in the test set, when they are assigned a cluster, give them the recommendations according to the training set.\n",
    "\n",
    "**Accuracy measurement:**\n",
    "* If a user has visited at least one restaurant in the recommendation list, then model is counted as correct."
   ]
  },
  {
   "cell_type": "markdown",
   "metadata": {},
   "source": [
    "## Data Prep\n",
    "\n",
    "Read in data and split it into test/train."
   ]
  },
  {
   "cell_type": "code",
   "execution_count": 75,
   "metadata": {},
   "outputs": [],
   "source": [
    "import pickle\n",
    "import pandas as pd\n",
    "import sklearn\n",
    "from sklearn.model_selection import train_test_split\n",
    "import gensim\n",
    "from gensim import corpora, models\n",
    "from sklearn.cluster import KMeans\n",
    "from sklearn.preprocessing import MinMaxScaler\n",
    "import spacy\n",
    "from gensim.models.phrases import Phrases, Phraser\n",
    "import matplotlib.pyplot as plt"
   ]
  },
  {
   "cell_type": "code",
   "execution_count": 2,
   "metadata": {},
   "outputs": [
    {
     "data": {
      "text/plain": [
       "array(['Tian Tian Hainanese Chicken Rice', 'Maxwell Food Centre',\n",
       "       'Jumbo Seafood', 'Song Fa Bak Kut Teh 松發 肉骨茶',\n",
       "       'Lau Pa Sat Festival Market'], dtype=object)"
      ]
     },
     "execution_count": 2,
     "metadata": {},
     "output_type": "execute_result"
    }
   ],
   "source": [
    "# importing SG restaurant names\n",
    "\n",
    "food = pd.read_csv(\"data/food.csv\")\n",
    "restaurants = pd.read_csv(\"data/restaurants.csv\")\n",
    "\n",
    "# combine and remove duplicates\n",
    "\n",
    "business = pd.concat([food,restaurants])\n",
    "\n",
    "business = business.drop_duplicates(subset = 'id', keep = 'first').name.unique()\n",
    "\n",
    "business[0:5]"
   ]
  },
  {
   "cell_type": "code",
   "execution_count": 3,
   "metadata": {},
   "outputs": [
    {
     "data": {
      "text/html": [
       "<div>\n",
       "<style scoped>\n",
       "    .dataframe tbody tr th:only-of-type {\n",
       "        vertical-align: middle;\n",
       "    }\n",
       "\n",
       "    .dataframe tbody tr th {\n",
       "        vertical-align: top;\n",
       "    }\n",
       "\n",
       "    .dataframe thead th {\n",
       "        text-align: right;\n",
       "    }\n",
       "</style>\n",
       "<table border=\"1\" class=\"dataframe\">\n",
       "  <thead>\n",
       "    <tr style=\"text-align: right;\">\n",
       "      <th></th>\n",
       "      <th>business_address</th>\n",
       "      <th>business_id</th>\n",
       "      <th>business_name</th>\n",
       "      <th>cool</th>\n",
       "      <th>funny</th>\n",
       "      <th>rating</th>\n",
       "      <th>review_id</th>\n",
       "      <th>singapore_flag</th>\n",
       "      <th>text</th>\n",
       "      <th>useful</th>\n",
       "      <th>user_id</th>\n",
       "    </tr>\n",
       "  </thead>\n",
       "  <tbody>\n",
       "    <tr>\n",
       "      <th>0</th>\n",
       "      <td>54 Shoreline CirIncline Village, NV 89451</td>\n",
       "      <td>WChhuvV8Kc8xwLZiQkik4A</td>\n",
       "      <td>Daisy Day Care</td>\n",
       "      <td>0</td>\n",
       "      <td>0</td>\n",
       "      <td>5.0</td>\n",
       "      <td>Qvltfxy80b_147zraCbBGQ</td>\n",
       "      <td>0</td>\n",
       "      <td>I used Daisy Day Care last Friday with my 1 ye...</td>\n",
       "      <td>0</td>\n",
       "      <td>LkyT0hPUs_47mCtS4MQs3Q</td>\n",
       "    </tr>\n",
       "    <tr>\n",
       "      <th>1</th>\n",
       "      <td>3821 N Narragansett AveChicago, IL 60634</td>\n",
       "      <td>g591dkunZTWfij-y85AFsw</td>\n",
       "      <td>Echo Limousine</td>\n",
       "      <td>1</td>\n",
       "      <td>1</td>\n",
       "      <td>5.0</td>\n",
       "      <td>eINK_4WAslLZULaKbNicVw</td>\n",
       "      <td>0</td>\n",
       "      <td>We recently used Echo Limousine to get from th...</td>\n",
       "      <td>1</td>\n",
       "      <td>LkyT0hPUs_47mCtS4MQs3Q</td>\n",
       "    </tr>\n",
       "    <tr>\n",
       "      <th>2</th>\n",
       "      <td>Calle los Palmitos 335290 San Bartolome de Tir...</td>\n",
       "      <td>LxhCSu0FvnDjiotkMzf53A</td>\n",
       "      <td>Aqualand Maspalomas</td>\n",
       "      <td>1</td>\n",
       "      <td>0</td>\n",
       "      <td>2.0</td>\n",
       "      <td>ppwQaxai_Ewb97J3KKwQhQ</td>\n",
       "      <td>0</td>\n",
       "      <td>Short story: this is a water park. That means ...</td>\n",
       "      <td>0</td>\n",
       "      <td>LkyT0hPUs_47mCtS4MQs3Q</td>\n",
       "    </tr>\n",
       "    <tr>\n",
       "      <th>3</th>\n",
       "      <td>Avenida Los Canarios, 2735120 ArguineguinSpain</td>\n",
       "      <td>np0BG0KgxSu--e6NX7Aymw</td>\n",
       "      <td>Restaurant Valentino</td>\n",
       "      <td>0</td>\n",
       "      <td>0</td>\n",
       "      <td>5.0</td>\n",
       "      <td>S7xBOJqnNG4vPN8n2HaNJg</td>\n",
       "      <td>0</td>\n",
       "      <td>We had a really nice dinner here last night. T...</td>\n",
       "      <td>0</td>\n",
       "      <td>LkyT0hPUs_47mCtS4MQs3Q</td>\n",
       "    </tr>\n",
       "    <tr>\n",
       "      <th>4</th>\n",
       "      <td>4134 Geary BlvdSan Francisco, CA 94118</td>\n",
       "      <td>_BzWIbtbJV5gzqEbZ2DjPg</td>\n",
       "      <td>Overtime Sports Bar &amp; Restaurant - CLOSED</td>\n",
       "      <td>2</td>\n",
       "      <td>0</td>\n",
       "      <td>5.0</td>\n",
       "      <td>HizKwTg4v4R5xc5fznkeDQ</td>\n",
       "      <td>0</td>\n",
       "      <td>Awesome spot! Much needed addition to the neig...</td>\n",
       "      <td>0</td>\n",
       "      <td>LkyT0hPUs_47mCtS4MQs3Q</td>\n",
       "    </tr>\n",
       "  </tbody>\n",
       "</table>\n",
       "</div>"
      ],
      "text/plain": [
       "                                    business_address             business_id  \\\n",
       "0          54 Shoreline CirIncline Village, NV 89451  WChhuvV8Kc8xwLZiQkik4A   \n",
       "1           3821 N Narragansett AveChicago, IL 60634  g591dkunZTWfij-y85AFsw   \n",
       "2  Calle los Palmitos 335290 San Bartolome de Tir...  LxhCSu0FvnDjiotkMzf53A   \n",
       "3     Avenida Los Canarios, 2735120 ArguineguinSpain  np0BG0KgxSu--e6NX7Aymw   \n",
       "4             4134 Geary BlvdSan Francisco, CA 94118  _BzWIbtbJV5gzqEbZ2DjPg   \n",
       "\n",
       "                               business_name  cool  funny  rating  \\\n",
       "0                             Daisy Day Care     0      0     5.0   \n",
       "1                             Echo Limousine     1      1     5.0   \n",
       "2                        Aqualand Maspalomas     1      0     2.0   \n",
       "3                       Restaurant Valentino     0      0     5.0   \n",
       "4  Overtime Sports Bar & Restaurant - CLOSED     2      0     5.0   \n",
       "\n",
       "                review_id  singapore_flag  \\\n",
       "0  Qvltfxy80b_147zraCbBGQ               0   \n",
       "1  eINK_4WAslLZULaKbNicVw               0   \n",
       "2  ppwQaxai_Ewb97J3KKwQhQ               0   \n",
       "3  S7xBOJqnNG4vPN8n2HaNJg               0   \n",
       "4  HizKwTg4v4R5xc5fznkeDQ               0   \n",
       "\n",
       "                                                text  useful  \\\n",
       "0  I used Daisy Day Care last Friday with my 1 ye...       0   \n",
       "1  We recently used Echo Limousine to get from th...       1   \n",
       "2  Short story: this is a water park. That means ...       0   \n",
       "3  We had a really nice dinner here last night. T...       0   \n",
       "4  Awesome spot! Much needed addition to the neig...       0   \n",
       "\n",
       "                  user_id  \n",
       "0  LkyT0hPUs_47mCtS4MQs3Q  \n",
       "1  LkyT0hPUs_47mCtS4MQs3Q  \n",
       "2  LkyT0hPUs_47mCtS4MQs3Q  \n",
       "3  LkyT0hPUs_47mCtS4MQs3Q  \n",
       "4  LkyT0hPUs_47mCtS4MQs3Q  "
      ]
     },
     "execution_count": 3,
     "metadata": {},
     "output_type": "execute_result"
    }
   ],
   "source": [
    "# read in reviews\n",
    "\n",
    "datafile = open(\"reviews.pkl\", \"rb\")\n",
    "\n",
    "df_reviews = pickle.load(datafile)\n",
    "datafile.close()\n",
    "\n",
    "df_reviews.head()"
   ]
  },
  {
   "cell_type": "code",
   "execution_count": 4,
   "metadata": {},
   "outputs": [],
   "source": [
    "# filtering out any users who don't have reviews\n",
    "userswithreview = list(df_reviews.user_id.unique())"
   ]
  },
  {
   "cell_type": "code",
   "execution_count": 5,
   "metadata": {},
   "outputs": [
    {
     "data": {
      "text/html": [
       "<div>\n",
       "<style scoped>\n",
       "    .dataframe tbody tr th:only-of-type {\n",
       "        vertical-align: middle;\n",
       "    }\n",
       "\n",
       "    .dataframe tbody tr th {\n",
       "        vertical-align: top;\n",
       "    }\n",
       "\n",
       "    .dataframe thead th {\n",
       "        text-align: right;\n",
       "    }\n",
       "</style>\n",
       "<table border=\"1\" class=\"dataframe\">\n",
       "  <thead>\n",
       "    <tr style=\"text-align: right;\">\n",
       "      <th></th>\n",
       "      <th>elite_status</th>\n",
       "      <th>friend_count</th>\n",
       "      <th>friends</th>\n",
       "      <th>location</th>\n",
       "      <th>name</th>\n",
       "      <th>review_count</th>\n",
       "      <th>user_id</th>\n",
       "    </tr>\n",
       "  </thead>\n",
       "  <tbody>\n",
       "    <tr>\n",
       "      <th>0</th>\n",
       "      <td>0.0</td>\n",
       "      <td>57.0</td>\n",
       "      <td>[LZmKJIj_EVyrspkpII7stg, y0DE2C7GwxYU9gOIlj69V...</td>\n",
       "      <td>Geylang, Singapore, Singapore</td>\n",
       "      <td>Paul L.</td>\n",
       "      <td>4.0</td>\n",
       "      <td>ccROBnsVV5E1jxBfr7XReg</td>\n",
       "    </tr>\n",
       "    <tr>\n",
       "      <th>1</th>\n",
       "      <td>1.0</td>\n",
       "      <td>10.0</td>\n",
       "      <td>[0wBI9RiVyf9HnL1IuGCCUw, cU7ysY41qGppbw4pQgjqg...</td>\n",
       "      <td>Boston, MA</td>\n",
       "      <td>Christine W.</td>\n",
       "      <td>39.0</td>\n",
       "      <td>kMGE7cs1qQAIr2gyQMmWkQ</td>\n",
       "    </tr>\n",
       "    <tr>\n",
       "      <th>2</th>\n",
       "      <td>1.0</td>\n",
       "      <td>140.0</td>\n",
       "      <td>[-nQfkQuRfX2qLX-3gbgX9g, GHkLufp4_N6pwyGR9PRAm...</td>\n",
       "      <td>San Jose, CA</td>\n",
       "      <td>Ellen S.</td>\n",
       "      <td>339.0</td>\n",
       "      <td>PK4F1LiBh_x1LPbTMFmByw</td>\n",
       "    </tr>\n",
       "    <tr>\n",
       "      <th>3</th>\n",
       "      <td>0.0</td>\n",
       "      <td>2.0</td>\n",
       "      <td>[L0Sq7gVgSlwGuxxAFwNmjA, Uce419ATf8Ytal3lUpmjMQ]</td>\n",
       "      <td>South Loop, Chicago, IL</td>\n",
       "      <td>Michelle N.</td>\n",
       "      <td>28.0</td>\n",
       "      <td>MszVzakDJlDQNRPDUZMtXg</td>\n",
       "    </tr>\n",
       "    <tr>\n",
       "      <th>4</th>\n",
       "      <td>0.0</td>\n",
       "      <td>101.0</td>\n",
       "      <td>[3VSljYsKVX8oWSHR3HuH3Q, ChSHPHX2RMIvj2lKhM6C3...</td>\n",
       "      <td>Singapore, Singapore</td>\n",
       "      <td>Camy \"gimmycamy\" T.</td>\n",
       "      <td>142.0</td>\n",
       "      <td>W8vFfu8VMe9EAhDcphjDuQ</td>\n",
       "    </tr>\n",
       "  </tbody>\n",
       "</table>\n",
       "</div>"
      ],
      "text/plain": [
       "   elite_status  friend_count  \\\n",
       "0           0.0          57.0   \n",
       "1           1.0          10.0   \n",
       "2           1.0         140.0   \n",
       "3           0.0           2.0   \n",
       "4           0.0         101.0   \n",
       "\n",
       "                                             friends  \\\n",
       "0  [LZmKJIj_EVyrspkpII7stg, y0DE2C7GwxYU9gOIlj69V...   \n",
       "1  [0wBI9RiVyf9HnL1IuGCCUw, cU7ysY41qGppbw4pQgjqg...   \n",
       "2  [-nQfkQuRfX2qLX-3gbgX9g, GHkLufp4_N6pwyGR9PRAm...   \n",
       "3   [L0Sq7gVgSlwGuxxAFwNmjA, Uce419ATf8Ytal3lUpmjMQ]   \n",
       "4  [3VSljYsKVX8oWSHR3HuH3Q, ChSHPHX2RMIvj2lKhM6C3...   \n",
       "\n",
       "                        location                 name  review_count  \\\n",
       "0  Geylang, Singapore, Singapore              Paul L.           4.0   \n",
       "1                     Boston, MA         Christine W.          39.0   \n",
       "2                   San Jose, CA             Ellen S.         339.0   \n",
       "3        South Loop, Chicago, IL          Michelle N.          28.0   \n",
       "4           Singapore, Singapore  Camy \"gimmycamy\" T.         142.0   \n",
       "\n",
       "                  user_id  \n",
       "0  ccROBnsVV5E1jxBfr7XReg  \n",
       "1  kMGE7cs1qQAIr2gyQMmWkQ  \n",
       "2  PK4F1LiBh_x1LPbTMFmByw  \n",
       "3  MszVzakDJlDQNRPDUZMtXg  \n",
       "4  W8vFfu8VMe9EAhDcphjDuQ  "
      ]
     },
     "execution_count": 5,
     "metadata": {},
     "output_type": "execute_result"
    }
   ],
   "source": [
    "# read in users\n",
    "datafile = open(\"user_info.pkl\", \"rb\")\n",
    "\n",
    "df_user = pickle.load(datafile)\n",
    "datafile.close()\n",
    "\n",
    "df_user = df_user[df_user.user_id.isin(userswithreview)]\n",
    "\n",
    "df_user.head()"
   ]
  },
  {
   "cell_type": "code",
   "execution_count": 6,
   "metadata": {},
   "outputs": [
    {
     "name": "stdout",
     "output_type": "stream",
     "text": [
      "380 locals and 1165 foreigners\n"
     ]
    }
   ],
   "source": [
    "#split singaporean nonsingaporean\n",
    "\n",
    "df_local = df_user[df_user['location'].str.contains(\"Singapore\")]\n",
    "\n",
    "df_tourist = df_user[~df_user['location'].str.contains(\"Singapore\")]\n",
    "\n",
    "print(\"%d locals and %d foreigners\" % (len(df_local), len(df_tourist)))"
   ]
  },
  {
   "cell_type": "code",
   "execution_count": 7,
   "metadata": {},
   "outputs": [
    {
     "name": "stdout",
     "output_type": "stream",
     "text": [
      "Test set has 350 ids and train set has 815\n"
     ]
    }
   ],
   "source": [
    "tourist_ids = df_tourist['user_id'].values\n",
    "\n",
    "train_ids, test_ids = train_test_split(tourist_ids, test_size = 0.3, random_state = 0)\n",
    "\n",
    "print(\"Test set has %d ids and train set has %d\" % (len(test_ids), len(train_ids)))"
   ]
  },
  {
   "cell_type": "code",
   "execution_count": 98,
   "metadata": {},
   "outputs": [
    {
     "name": "stdout",
     "output_type": "stream",
     "text": [
      "Full train set: 1195\n"
     ]
    }
   ],
   "source": [
    "# train IDs and singapore IDs\n",
    "\n",
    "train_ids_full = list(df_local['user_id']) + list(train_ids)\n",
    "\n",
    "print(\"Full train set: %d\" % len(train_ids_full))"
   ]
  },
  {
   "cell_type": "markdown",
   "metadata": {},
   "source": [
    "## NLP Text Processing"
   ]
  },
  {
   "cell_type": "code",
   "execution_count": 54,
   "metadata": {},
   "outputs": [],
   "source": [
    "# prepare text for NLP\n",
    "df_reviews_process = df_reviews[['user_id', 'singapore_flag', 'text']]\n",
    "\n",
    "df_reviews_process = df_reviews_process[~((df_reviews_process['user_id'].isin(test_ids)) & (df_reviews_process['singapore_flag'] == 1))]"
   ]
  },
  {
   "cell_type": "code",
   "execution_count": 55,
   "metadata": {},
   "outputs": [
    {
     "data": {
      "text/plain": [
       "337"
      ]
     },
     "execution_count": 55,
     "metadata": {},
     "output_type": "execute_result"
    }
   ],
   "source": [
    "# filter out any test ids that only left reviews in singapore\n",
    "\n",
    "filtertest = set(userswithreview) - set(df_reviews_process.user_id.values)\n",
    "filtertest = list(filtertest)\n",
    "\n",
    "test_ids = [x for x in test_ids if x not in filtertest]\n",
    "\n",
    "len(test_ids)"
   ]
  },
  {
   "cell_type": "code",
   "execution_count": 56,
   "metadata": {},
   "outputs": [
    {
     "data": {
      "text/plain": [
       "51775"
      ]
     },
     "execution_count": 56,
     "metadata": {},
     "output_type": "execute_result"
    }
   ],
   "source": [
    "# last n reviews of each user\n",
    "\n",
    "n=50\n",
    "#s=df_reviews_process.groupby('user_id').text.transform('count')\n",
    "\n",
    "df_reviews_process = df_reviews_process.groupby('user_id').head(n).reset_index(drop=True)\n",
    "\n",
    "len(df_reviews_process.text.values)"
   ]
  },
  {
   "cell_type": "code",
   "execution_count": 57,
   "metadata": {},
   "outputs": [],
   "source": [
    "# remove anything not in english\n",
    "\n",
    "from langdetect import detect\n",
    "\n",
    "def detect_lang(text):\n",
    "    try:\n",
    "        lang = detect(text)\n",
    "    except: #if they can't detect language, default to english\n",
    "        lang = 'en'\n",
    "        \n",
    "    return lang\n",
    "\n",
    "df_reviews_process['lang'] = df_reviews_process['text'].map(lambda x: detect_lang(x))\n",
    "df_reviews_process = df_reviews_process[df_reviews_process['lang'] == 'en'].drop(['lang'], axis = 1)"
   ]
  },
  {
   "cell_type": "code",
   "execution_count": 23,
   "metadata": {},
   "outputs": [],
   "source": [
    "nlp = spacy.load('en')"
   ]
  },
  {
   "cell_type": "code",
   "execution_count": 58,
   "metadata": {},
   "outputs": [],
   "source": [
    "# pre process using spacy - lowercase, punctuation, stop words, lemma (stem)\n",
    "\n",
    "def is_token_allowed(token):\n",
    "    '''\n",
    "    Only allow valid tokens which are not stop words and punctuation symbols.\n",
    "    '''\n",
    "    \n",
    "    if (not token or not token.string.strip() or\n",
    "        token.is_punct): #token.is_stop or \n",
    "        return False\n",
    "    return True\n",
    "\n",
    "def preprocess_token(token):\n",
    "    # Reduce token to its lowercase lemma form\n",
    "    return token.lemma_.strip().lower()\n",
    "\n",
    "def preprocess_text(text):\n",
    "    sampletext = nlp(text)\n",
    "    \n",
    "    filtered_token = [preprocess_token(token) for token in sampletext if is_token_allowed(token)]\n",
    "    return(filtered_token)\n",
    "\n",
    "df_reviews_process['processed_text'] = df_reviews_process['text'].map(lambda x: preprocess_text(x))"
   ]
  },
  {
   "cell_type": "code",
   "execution_count": 59,
   "metadata": {},
   "outputs": [],
   "source": [
    "# Build the bigram and trigram models\n",
    "bigram = gensim.models.Phrases(df_reviews_process['processed_text'], min_count=5, threshold=100) # higher threshold fewer phrases.\n",
    "trigram = gensim.models.Phrases(bigram[df_reviews_process['processed_text']], threshold=100)  \n",
    "\n",
    "# Faster way to get a sentence clubbed as a trigram/bigram\n",
    "bigram_mod = gensim.models.phrases.Phraser(bigram)\n",
    "trigram_mod = gensim.models.phrases.Phraser(trigram)\n",
    "\n",
    "df_reviews_process['processed_text'] = df_reviews_process['processed_text'].map(lambda x: trigram_mod[bigram_mod[x]])"
   ]
  },
  {
   "cell_type": "code",
   "execution_count": 60,
   "metadata": {},
   "outputs": [],
   "source": [
    "df_reviews_process['processed_text'] = df_reviews_process['processed_text'].map(lambda x: trigram_mod[bigram_mod[x]])"
   ]
  },
  {
   "cell_type": "code",
   "execution_count": 61,
   "metadata": {},
   "outputs": [],
   "source": [
    "# combining reviews per user\n",
    "\n",
    "df_reviews_process = df_reviews_process.groupby('user_id')['processed_text'].apply(sum).reset_index()"
   ]
  },
  {
   "cell_type": "code",
   "execution_count": 62,
   "metadata": {},
   "outputs": [],
   "source": [
    "df_reviews_process.to_pickle('data/reviews_processed_trigram.pkl')"
   ]
  },
  {
   "cell_type": "markdown",
   "metadata": {},
   "source": [
    "### Creating Models"
   ]
  },
  {
   "cell_type": "code",
   "execution_count": 113,
   "metadata": {},
   "outputs": [],
   "source": [
    "# creating a model only using my train reviews\n",
    "\n",
    "train_reviews = df_reviews_process[df_reviews_process.user_id.isin(train_ids_full)]\n",
    "train_ids_full = train_reviews['user_id'].values\n",
    "train_reviews = train_reviews['processed_text']\n",
    "\n",
    "test_reviews = df_reviews_process[df_reviews_process.user_id.isin(test_ids)]['processed_text']"
   ]
  },
  {
   "cell_type": "code",
   "execution_count": 114,
   "metadata": {},
   "outputs": [],
   "source": [
    "# bagofwords\n",
    "\n",
    "dictionary = gensim.corpora.Dictionary(train_reviews)\n",
    "\n",
    "# filter out extremes\n",
    "dictionary.filter_extremes(no_below=15, no_above=0.5, keep_n=50000)\n",
    "# filter out any words that appear less than 15 times, in more than 50% of documents, keep 100k words\n",
    "\n",
    "bow_corpus = [dictionary.doc2bow(doc) for doc in train_reviews]\n",
    "bow_corpus_test = [dictionary.doc2bow(doc) for doc in test_reviews]"
   ]
  },
  {
   "cell_type": "code",
   "execution_count": 118,
   "metadata": {},
   "outputs": [],
   "source": [
    "# create a dataframe that has the distribution of topics for each document\n",
    "\n",
    "def topic_dist(corpus, model, ntopics):\n",
    "\n",
    "    doc_topic_list = []\n",
    "\n",
    "    for doc in corpus:\n",
    "\n",
    "        topic_dict = {}\n",
    "\n",
    "        for topic in model[doc]:\n",
    "            topic_dict[topic[0]] = topic[1]\n",
    "\n",
    "        for i in range(0, ntopics):\n",
    "                if i not in topic_dict.keys():\n",
    "                    topic_dict[i] = 0\n",
    "\n",
    "        doc_topic_list.append(topic_dict)\n",
    "\n",
    "    df_doc_topic = pd.DataFrame(doc_topic_list)\n",
    "    \n",
    "    return df_doc_topic"
   ]
  },
  {
   "cell_type": "code",
   "execution_count": 69,
   "metadata": {},
   "outputs": [],
   "source": [
    "# creates model outputs topic distribution for a train and test corpus\n",
    "\n",
    "def create_model(corpus, corpus_test, ntopics):\n",
    "\n",
    "    lda_model = gensim.models.LdaModel(corpus, num_topics=ntopics, id2word=dictionary, passes=5, random_state = 1)\n",
    "    \n",
    "    topic_dist_train = topic_dist(corpus, lda_model, ntopics)\n",
    "    topic_dist_test = topic_dist(corpus_test, lda_model, ntopics)\n",
    "    \n",
    "    return topic_dist_train, topic_dist_test"
   ]
  },
  {
   "cell_type": "code",
   "execution_count": 70,
   "metadata": {},
   "outputs": [],
   "source": [
    "# determining k for k-means\n",
    "\n",
    "def elbow_graph(df):\n",
    "\n",
    "    wcss = []\n",
    "    for i in range(1, 21):\n",
    "        kmeans = KMeans(n_clusters=i, init='k-means++', max_iter=300, n_init=10, random_state=0)\n",
    "        kmeans.fit(df)\n",
    "        wcss.append(kmeans.inertia_)\n",
    "    plt.plot(range(1, 21), wcss)\n",
    "    plt.title('Elbow Method')\n",
    "    plt.xlabel('Number of clusters')\n",
    "    plt.ylabel('WCSS')\n",
    "    plt.show()"
   ]
  },
  {
   "cell_type": "markdown",
   "metadata": {},
   "source": [
    "## Running the Model Functions"
   ]
  },
  {
   "cell_type": "markdown",
   "metadata": {},
   "source": [
    "### LDA - only tourists"
   ]
  },
  {
   "cell_type": "code",
   "execution_count": 173,
   "metadata": {},
   "outputs": [],
   "source": [
    "train_ids_tourists = [x for x in list(train_ids_full) if (x not in df_local['user_id'].values)]"
   ]
  },
  {
   "cell_type": "code",
   "execution_count": 174,
   "metadata": {},
   "outputs": [],
   "source": [
    "# input the topic distribution for each doc in train and test. \n",
    "# Specify how many kmeans clusters you want based off elbow graph\n",
    "\n",
    "def topic_acc_tourist(train_doc_topic, test_doc_topic, nclusters):\n",
    "\n",
    "    kmeans = KMeans(n_clusters=nclusters, random_state = 0).fit(train_doc_topic)\n",
    "\n",
    "    # clusters for each person in the train set\n",
    "    train_cluster = kmeans.fit_predict(train_doc_topic)\n",
    "    train_cluster = pd.DataFrame(train_cluster, train_ids_tourists).reset_index() \n",
    "    train_cluster.columns = ['user_id', 'cluster']\n",
    "\n",
    "    # clusters for each person in the train set\n",
    "    pred_y = kmeans.fit_predict(test_doc_topic)\n",
    "    test_cluster = pd.DataFrame(pred_y, test_ids).reset_index()\n",
    "    test_cluster.columns = ['user_id', 'cluster']\n",
    "\n",
    "    # create a blank dataframe to input the results\n",
    "    df = pd.DataFrame(columns=['rank', 'testinclusion'])\n",
    "\n",
    "    for numrecs in range(1,21):\n",
    "\n",
    "        dict_rec = {}\n",
    "\n",
    "        for i in range(0,nclusters):\n",
    "            cluster_ids = train_cluster[train_cluster['cluster'] == i]['user_id'].values\n",
    "            cluster_rec = sg_reviews[sg_reviews['user_id'].isin(cluster_ids)].groupby('business_name').size().reset_index(name = 'count').sort_values(by = 'count', ascending = False).head(numrecs)\n",
    "            \n",
    "            dict_rec[i] = list(cluster_rec.business_name.values)\n",
    "\n",
    "        correct_rec = 0\n",
    "\n",
    "        for i in range(len(test_cluster)):\n",
    "            user = test_cluster['user_id'][i]\n",
    "            cluster = test_cluster['cluster'][i]\n",
    "\n",
    "            # for the given user, find the restaurants they visited in sg\n",
    "            visitedrest = df_reviews[(df_reviews['user_id'] == user) & (df_reviews['singapore_flag'] == 1)]['business_name'].values\n",
    "\n",
    "            count = 0\n",
    "\n",
    "            for i in visitedrest:\n",
    "                if i in dict_rec[cluster]:\n",
    "                    count = 1\n",
    "\n",
    "            correct_rec += count\n",
    "\n",
    "        acc = correct_rec / len(test_cluster)\n",
    "\n",
    "        df = df.append({'rank': numrecs, 'testinclusion': acc}, ignore_index=True)\n",
    "\n",
    "    return df"
   ]
  },
  {
   "cell_type": "code",
   "execution_count": 150,
   "metadata": {},
   "outputs": [],
   "source": [
    "# creating a model only using my train reviews\n",
    "\n",
    "train_reviews = df_reviews_process[df_reviews_process.user_id.isin(train_ids)]['processed_text']\n",
    "\n",
    "test_reviews = df_reviews_process[df_reviews_process.user_id.isin(test_ids)]['processed_text']\n",
    "\n",
    "# bagofwords\n",
    "\n",
    "dictionary = gensim.corpora.Dictionary(train_reviews)\n",
    "\n",
    "# filter out extremes\n",
    "dictionary.filter_extremes(no_below=15, no_above=0.5, keep_n=50000)\n",
    "# filter out any words that appear less than 15 times, in more than 50% of documents, keep 100k words\n",
    "\n",
    "bow_corpus = [dictionary.doc2bow(doc) for doc in train_reviews]\n",
    "bow_corpus_test = [dictionary.doc2bow(doc) for doc in test_reviews]"
   ]
  },
  {
   "cell_type": "code",
   "execution_count": 175,
   "metadata": {},
   "outputs": [
    {
     "data": {
      "image/png": "[encoded data removed]",
      "text/plain": [
       "<Figure size 432x288 with 1 Axes>"
      ]
     },
     "metadata": {
      "needs_background": "light"
     },
     "output_type": "display_data"
    }
   ],
   "source": [
    "# trying 5 topics\n",
    "df_doc_topic, df_doc_topic_test = create_model(bow_corpus, bow_corpus_test, 5)\n",
    "elbow_graph(df_doc_topic)\n",
    "\n",
    "topics = int(input())\n",
    "lda_bow_5 = topic_acc_tourist(df_doc_topic, df_doc_topic_test, topics)\n",
    "\n",
    "plt.plot(lda_bow_5['rank'], lda_bow_5['testinclusion'])\n",
    "plt.title('LDA BOW 5 topics')\n",
    "plt.xlabel('Number of recommendations')\n",
    "plt.ylabel('% of test')\n",
    "plt.show()"
   ]
  },
  {
   "cell_type": "code",
   "execution_count": 176,
   "metadata": {},
   "outputs": [
    {
     "data": {
      "text/html": [
       "<div>\n",
       "<style scoped>\n",
       "    .dataframe tbody tr th:only-of-type {\n",
       "        vertical-align: middle;\n",
       "    }\n",
       "\n",
       "    .dataframe tbody tr th {\n",
       "        vertical-align: top;\n",
       "    }\n",
       "\n",
       "    .dataframe thead th {\n",
       "        text-align: right;\n",
       "    }\n",
       "</style>\n",
       "<table border=\"1\" class=\"dataframe\">\n",
       "  <thead>\n",
       "    <tr style=\"text-align: right;\">\n",
       "      <th></th>\n",
       "      <th>rank</th>\n",
       "      <th>testinclusion</th>\n",
       "    </tr>\n",
       "  </thead>\n",
       "  <tbody>\n",
       "    <tr>\n",
       "      <th>0</th>\n",
       "      <td>1.0</td>\n",
       "      <td>0.080119</td>\n",
       "    </tr>\n",
       "    <tr>\n",
       "      <th>1</th>\n",
       "      <td>2.0</td>\n",
       "      <td>0.127596</td>\n",
       "    </tr>\n",
       "    <tr>\n",
       "      <th>2</th>\n",
       "      <td>3.0</td>\n",
       "      <td>0.166172</td>\n",
       "    </tr>\n",
       "    <tr>\n",
       "      <th>3</th>\n",
       "      <td>4.0</td>\n",
       "      <td>0.183976</td>\n",
       "    </tr>\n",
       "    <tr>\n",
       "      <th>4</th>\n",
       "      <td>5.0</td>\n",
       "      <td>0.207715</td>\n",
       "    </tr>\n",
       "    <tr>\n",
       "      <th>5</th>\n",
       "      <td>6.0</td>\n",
       "      <td>0.246291</td>\n",
       "    </tr>\n",
       "    <tr>\n",
       "      <th>6</th>\n",
       "      <td>7.0</td>\n",
       "      <td>0.246291</td>\n",
       "    </tr>\n",
       "    <tr>\n",
       "      <th>7</th>\n",
       "      <td>8.0</td>\n",
       "      <td>0.249258</td>\n",
       "    </tr>\n",
       "    <tr>\n",
       "      <th>8</th>\n",
       "      <td>9.0</td>\n",
       "      <td>0.264095</td>\n",
       "    </tr>\n",
       "    <tr>\n",
       "      <th>9</th>\n",
       "      <td>10.0</td>\n",
       "      <td>0.275964</td>\n",
       "    </tr>\n",
       "    <tr>\n",
       "      <th>10</th>\n",
       "      <td>11.0</td>\n",
       "      <td>0.281899</td>\n",
       "    </tr>\n",
       "    <tr>\n",
       "      <th>11</th>\n",
       "      <td>12.0</td>\n",
       "      <td>0.287834</td>\n",
       "    </tr>\n",
       "    <tr>\n",
       "      <th>12</th>\n",
       "      <td>13.0</td>\n",
       "      <td>0.290801</td>\n",
       "    </tr>\n",
       "    <tr>\n",
       "      <th>13</th>\n",
       "      <td>14.0</td>\n",
       "      <td>0.308605</td>\n",
       "    </tr>\n",
       "    <tr>\n",
       "      <th>14</th>\n",
       "      <td>15.0</td>\n",
       "      <td>0.311573</td>\n",
       "    </tr>\n",
       "    <tr>\n",
       "      <th>15</th>\n",
       "      <td>16.0</td>\n",
       "      <td>0.314540</td>\n",
       "    </tr>\n",
       "    <tr>\n",
       "      <th>16</th>\n",
       "      <td>17.0</td>\n",
       "      <td>0.320475</td>\n",
       "    </tr>\n",
       "    <tr>\n",
       "      <th>17</th>\n",
       "      <td>18.0</td>\n",
       "      <td>0.320475</td>\n",
       "    </tr>\n",
       "    <tr>\n",
       "      <th>18</th>\n",
       "      <td>19.0</td>\n",
       "      <td>0.323442</td>\n",
       "    </tr>\n",
       "    <tr>\n",
       "      <th>19</th>\n",
       "      <td>20.0</td>\n",
       "      <td>0.323442</td>\n",
       "    </tr>\n",
       "  </tbody>\n",
       "</table>\n",
       "</div>"
      ],
      "text/plain": [
       "    rank  testinclusion\n",
       "0    1.0       0.080119\n",
       "1    2.0       0.127596\n",
       "2    3.0       0.166172\n",
       "3    4.0       0.183976\n",
       "4    5.0       0.207715\n",
       "5    6.0       0.246291\n",
       "6    7.0       0.246291\n",
       "7    8.0       0.249258\n",
       "8    9.0       0.264095\n",
       "9   10.0       0.275964\n",
       "10  11.0       0.281899\n",
       "11  12.0       0.287834\n",
       "12  13.0       0.290801\n",
       "13  14.0       0.308605\n",
       "14  15.0       0.311573\n",
       "15  16.0       0.314540\n",
       "16  17.0       0.320475\n",
       "17  18.0       0.320475\n",
       "18  19.0       0.323442\n",
       "19  20.0       0.323442"
      ]
     },
     "execution_count": 176,
     "metadata": {},
     "output_type": "execute_result"
    }
   ],
   "source": [
    "lda_bow_5"
   ]
  }
 ],
 "metadata": {
  "kernelspec": {
   "display_name": "Python 3",
   "language": "python",
   "name": "python3"
  },
  "language_info": {
   "codemirror_mode": {
    "name": "ipython",
    "version": 3
   },
   "file_extension": ".py",
   "mimetype": "text/x-python",
   "name": "python",
   "nbconvert_exporter": "python",
   "pygments_lexer": "ipython3",
   "version": "3.7.3"
  }
 },
 "nbformat": 4,
 "nbformat_minor": 2
}
